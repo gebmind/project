{
 "cells": [
  {
   "cell_type": "markdown",
   "id": "8bf2e340",
   "metadata": {},
   "source": [
    "## 📦 Pipeline de Modelado IA para Recomendación de Locales\n",
    "\n",
    "Este notebook tiene como objetivo entrenar y evaluar un modelo de aprendizaje automático para recomendar las mejores zonas para abrir un nuevo negocio. Se basa en los datos enriquecidos con la API de Google Places y generados en el notebook anterior.\n",
    "\n",
    "⚠️ **Importante:** Este dataset es una **muestra representativa** (20% por código postal) del total de datos para agilizar las pruebas y el desarrollo.\n",
    "\n",
    "### 🚀 ¿Qué incluye este notebook?\n",
    "- **Carga del dataset enriquecido** con variables como afluencia, competencia y valoraciones.\n",
    "- **Selección de características** relevantes para el modelo.\n",
    "- **Entrenamiento** de un modelo de Random Forest para predecir la valoración esperada de un local.\n",
    "- **Evaluación del modelo** con métricas de desempeño (RMSE y R²).\n",
    "- **Exportación del modelo entrenado** para su uso posterior en la generación de informes de recomendación."
   ]
  },
  {
   "cell_type": "code",
   "execution_count": 2,
   "id": "6c195a86",
   "metadata": {},
   "outputs": [
    {
     "name": "stdout",
     "output_type": "stream",
     "text": [
      "Dataset cargado con 579 filas y 28 columnas.\n"
     ]
    }
   ],
   "source": [
    "import pandas as pd\n",
    "import numpy as np\n",
    "import pickle\n",
    "import os\n",
    "\n",
    "from sklearn.model_selection import train_test_split\n",
    "from sklearn.ensemble import RandomForestRegressor\n",
    "from sklearn.metrics import mean_squared_error, r2_score\n",
    "\n",
    "# Cargar el CSV enriquecido\n",
    "df = pd.read_csv('../data/locales_enriquecido_muestra.csv')\n",
    "\n",
    "print(f\"Dataset cargado con {df.shape[0]} filas y {df.shape[1]} columnas.\")"
   ]
  },
  {
   "cell_type": "code",
   "execution_count": 3,
   "id": "a0ca076d",
   "metadata": {},
   "outputs": [],
   "source": [
    "# Features: todas las variables numéricas y relevantes para el modelo\n",
    "features = [\n",
    "    'puntuacion_media', 'numero_reviews', 'categoria_id',\n",
    "    'density_500m', 'density_1000m', 'density_2000m',\n",
    "    'ratio_500m_2km', 'dist_city_center_km', 'local_density_1km',\n",
    "    'dist_city_center_km^2', 'density_1000m^2',\n",
    "    'valoracion_norm', 'valoracion_por_cercania',\n",
    "    'competencia_count', 'competencia_rating'\n",
    "]\n",
    "\n",
    "# Target: ajusta según lo que quieras predecir (por ejemplo, 'valoracion')\n",
    "target = 'valoracion'"
   ]
  },
  {
   "cell_type": "code",
   "execution_count": 4,
   "id": "f98f17a0",
   "metadata": {},
   "outputs": [
    {
     "name": "stdout",
     "output_type": "stream",
     "text": [
      "Train: (463, 15), Test: (116, 15)\n"
     ]
    }
   ],
   "source": [
    "X = df[features]\n",
    "y = df[target]\n",
    "\n",
    "X_train, X_test, y_train, y_test = train_test_split(\n",
    "    X, y, test_size=0.2, random_state=42\n",
    ")\n",
    "\n",
    "print(f\"Train: {X_train.shape}, Test: {X_test.shape}\")"
   ]
  },
  {
   "cell_type": "code",
   "execution_count": 5,
   "id": "49d8c0da",
   "metadata": {},
   "outputs": [],
   "source": [
    "model = RandomForestRegressor(n_estimators=100, random_state=42)\n",
    "model.fit(X_train, y_train)\n",
    "\n",
    "# Predicciones\n",
    "y_pred = model.predict(X_test)"
   ]
  },
  {
   "cell_type": "code",
   "execution_count": 6,
   "id": "e506566f",
   "metadata": {},
   "outputs": [
    {
     "name": "stdout",
     "output_type": "stream",
     "text": [
      "RMSE: 0.1516\n",
      "R^2: 0.9730\n"
     ]
    }
   ],
   "source": [
    "rmse = np.sqrt(mean_squared_error(y_test, y_pred))\n",
    "r2 = r2_score(y_test, y_pred)\n",
    "\n",
    "print(f\"RMSE: {rmse:.4f}\")\n",
    "print(f\"R^2: {r2:.4f}\")"
   ]
  },
  {
   "cell_type": "code",
   "execution_count": 7,
   "id": "1743b109",
   "metadata": {},
   "outputs": [
    {
     "name": "stdout",
     "output_type": "stream",
     "text": [
      "Modelo exportado correctamente en: ../models/random_forest_model.pkl\n"
     ]
    }
   ],
   "source": [
    "# Guardar el modelo entrenado\n",
    "model_path = '../models/random_forest_model.pkl'\n",
    "with open(model_path, 'wb') as file:\n",
    "    pickle.dump(model, file)\n",
    "\n",
    "print(f\"Modelo exportado correctamente en: {model_path}\")"
   ]
  }
 ],
 "metadata": {
  "language_info": {
   "name": "python"
  }
 },
 "nbformat": 4,
 "nbformat_minor": 5
}
