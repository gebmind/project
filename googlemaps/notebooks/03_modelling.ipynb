{
 "cells": [
  {
   "cell_type": "markdown",
   "id": "8bf2e340",
   "metadata": {},
   "source": [
    "## Pipeline de Modelado IA para Recomendación de Locales\n",
    "\n",
    "Este notebook tiene como objetivo entrenar y evaluar un modelo de aprendizaje automático para recomendar las mejores zonas para abrir un nuevo negocio. Se basa en los datos enriquecidos con la API de Google Places y generados en el notebook anterior.\n",
    "\n",
    "⚠️ **Importante:** Este dataset es una **muestra representativa** (20% por código postal) del total de datos para agilizar las pruebas y el desarrollo.\n",
    "\n",
    "### ¿Qué incluye este notebook?\n",
    "- **Carga del dataset enriquecido** con variables como afluencia, competencia y valoraciones.\n",
    "- **Selección de características** relevantes para el modelo.\n",
    "- **Entrenamiento** de un modelo de Random Forest para predecir la valoración esperada de un local.\n",
    "- **Evaluación del modelo** con métricas de desempeño (RMSE y R²).\n",
    "- **Exportación del modelo entrenado** para su uso posterior en la generación de informes de recomendación.\n",
    "- **Exportacion de visualizaciones del modelo**"
   ]
  },
  {
   "cell_type": "code",
   "execution_count": 1,
   "id": "6c195a86",
   "metadata": {},
   "outputs": [
    {
     "name": "stdout",
     "output_type": "stream",
     "text": [
      "Dataset cargado con 579 filas y 28 columnas.\n"
     ]
    }
   ],
   "source": [
    "import pandas as pd\n",
    "import numpy as np\n",
    "import pickle\n",
    "import os\n",
    "import matplotlib.pyplot as plt\n",
    "import seaborn as sns\n",
    "import shutil\n",
    "\n",
    "from sklearn.metrics import mean_squared_error, r2_score, mean_absolute_error\n",
    "from sklearn.model_selection import train_test_split\n",
    "from sklearn.ensemble import RandomForestRegressor\n",
    "\n",
    "# Carpetas de salida\n",
    "IMAGES_DIR = \"../images\"\n",
    "ASSETS_IMAGES_DIR = \"../../streamlit/assets/images\"\n",
    "DATA_DIR = \"../data\"\n",
    "ASSETS_DATA_DIR = \"../../streamlit/assets/data\"\n",
    "os.makedirs(IMAGES_DIR, exist_ok=True)\n",
    "os.makedirs(DATA_DIR, exist_ok=True)\n",
    "\n",
    "# Cargar el CSV enriquecido\n",
    "df = pd.read_csv('../data/locales_enriquecido_muestra.csv')\n",
    "\n",
    "print(f\"Dataset cargado con {df.shape[0]} filas y {df.shape[1]} columnas.\")"
   ]
  },
  {
   "cell_type": "code",
   "execution_count": 2,
   "id": "a0ca076d",
   "metadata": {},
   "outputs": [],
   "source": [
    "# Features: todas las variables numéricas y relevantes para el modelo\n",
    "features = [\n",
    "    'puntuacion_media', 'numero_reviews', 'categoria_id',\n",
    "    'density_500m', 'density_1000m', 'density_2000m',\n",
    "    'ratio_500m_2km', 'dist_city_center_km', 'local_density_1km',\n",
    "    'dist_city_center_km^2', 'density_1000m^2',\n",
    "    'valoracion_norm', 'valoracion_por_cercania',\n",
    "    'competencia_count', 'competencia_rating'\n",
    "]\n",
    "\n",
    "# Target: ajusta según lo que quieras predecir (por ejemplo, 'valoracion')\n",
    "target = 'valoracion'"
   ]
  },
  {
   "cell_type": "code",
   "execution_count": 3,
   "id": "f98f17a0",
   "metadata": {},
   "outputs": [
    {
     "name": "stdout",
     "output_type": "stream",
     "text": [
      "Train: (463, 15), Test: (116, 15)\n"
     ]
    }
   ],
   "source": [
    "X = df[features]\n",
    "y = df[target]\n",
    "\n",
    "X_train, X_test, y_train, y_test = train_test_split(\n",
    "    X, y, test_size=0.2, random_state=42\n",
    ")\n",
    "\n",
    "print(f\"Train: {X_train.shape}, Test: {X_test.shape}\")"
   ]
  },
  {
   "cell_type": "code",
   "execution_count": 4,
   "id": "49d8c0da",
   "metadata": {},
   "outputs": [],
   "source": [
    "model = RandomForestRegressor(n_estimators=100, random_state=42)\n",
    "model.fit(X_train, y_train)\n",
    "\n",
    "# Predicciones\n",
    "y_pred = model.predict(X_test)"
   ]
  },
  {
   "cell_type": "code",
   "execution_count": 5,
   "id": "e506566f",
   "metadata": {},
   "outputs": [
    {
     "name": "stdout",
     "output_type": "stream",
     "text": [
      "RMSE: 0.1516\n",
      "R^2: 0.9730\n"
     ]
    }
   ],
   "source": [
    "rmse = np.sqrt(mean_squared_error(y_test, y_pred))\n",
    "r2 = r2_score(y_test, y_pred)\n",
    "\n",
    "print(f\"RMSE: {rmse:.4f}\")\n",
    "print(f\"R^2: {r2:.4f}\")"
   ]
  },
  {
   "cell_type": "code",
   "execution_count": 6,
   "id": "1743b109",
   "metadata": {},
   "outputs": [
    {
     "name": "stdout",
     "output_type": "stream",
     "text": [
      "Modelo exportado correctamente en: ../models/random_forest_model.pkl\n",
      "Modelo exportado correctamente en: ../../streamlit/assets/models/random_forest_model.pkl\n"
     ]
    }
   ],
   "source": [
    "# Guardar el modelo entrenado\n",
    "model_path = '../models/random_forest_model.pkl'\n",
    "with open(model_path, 'wb') as file:\n",
    "    pickle.dump(model, file)\n",
    "\n",
    "\n",
    "# Rutas de exportación\n",
    "model_path_1 = os.path.join(\"..\", \"models\", \"random_forest_model.pkl\")\n",
    "model_path_2 = os.path.join(\"..\", \"..\", \"streamlit\", \"assets\", \"models\", \"random_forest_model.pkl\")\n",
    "\n",
    "# Guardar el modelo en ambas rutas\n",
    "for path in [model_path_1, model_path_2]:\n",
    "    with open(path, 'wb') as file:\n",
    "        pickle.dump(model, file)\n",
    "    print(f\"Modelo exportado correctamente en: {path}\")\n"
   ]
  },
  {
   "cell_type": "markdown",
   "id": "33062653",
   "metadata": {},
   "source": [
    "### VISUALIZACIONES Y RESULTADOS"
   ]
  },
  {
   "cell_type": "code",
   "execution_count": 7,
   "id": "8c642716",
   "metadata": {},
   "outputs": [
    {
     "name": "stdout",
     "output_type": "stream",
     "text": [
      "Importancia de Variables exportada en:\n",
      "- ../images/importancia_variables.png\n",
      "- ../../streamlit/assets/images/importancia_variables.png\n",
      "Real vs Predicho exportado en:\n",
      "- ../images/real_vs_predicho.png\n",
      "- ../../streamlit/assets/images/real_vs_predicho.png\n",
      "Histograma de Errores exportado en:\n",
      "- ../images/histograma_errores.png\n",
      "- ../../streamlit/assets/images/histograma_errores.png\n"
     ]
    }
   ],
   "source": [
    "## 1. Importancia de Variables\n",
    "output_filename = \"importancia_variables.png\"\n",
    "output_path_1 = os.path.join(IMAGES_DIR, output_filename)\n",
    "\n",
    "plt.figure(figsize=(10,6))\n",
    "plt.barh(X_train.columns, model.feature_importances_)\n",
    "plt.xlabel(\"Importancia\")\n",
    "plt.ylabel(\"Características\")\n",
    "plt.title(\"Importancia de Variables\")\n",
    "plt.tight_layout()\n",
    "plt.savefig(output_path_1)\n",
    "plt.close()\n",
    "\n",
    "# Copiar al assets\n",
    "output_path_2 = os.path.join(ASSETS_IMAGES_DIR, output_filename)\n",
    "shutil.copy(output_path_1, output_path_2)\n",
    "print(f\"Importancia de Variables exportada en:\\n- {output_path_1}\\n- {output_path_2}\")\n",
    "\n",
    "## 2. Real vs Predicho\n",
    "output_filename = \"real_vs_predicho.png\"\n",
    "output_path_1 = os.path.join(IMAGES_DIR, output_filename)\n",
    "\n",
    "y_pred = model.predict(X_test)\n",
    "plt.figure(figsize=(8,6))\n",
    "plt.scatter(y_test, y_pred, alpha=0.5)\n",
    "plt.xlabel(\"Valor real\")\n",
    "plt.ylabel(\"Valor predicho\")\n",
    "plt.title(\"Real vs Predicho\")\n",
    "plt.plot([y_test.min(), y_test.max()], [y_test.min(), y_test.max()], 'r--')\n",
    "plt.tight_layout()\n",
    "plt.savefig(output_path_1)\n",
    "plt.close()\n",
    "\n",
    "output_path_2 = os.path.join(ASSETS_IMAGES_DIR, output_filename)\n",
    "shutil.copy(output_path_1, output_path_2)\n",
    "print(f\"Real vs Predicho exportado en:\\n- {output_path_1}\\n- {output_path_2}\")\n",
    "\n",
    "## 3. Histograma de Errores Absolutos\n",
    "output_filename = \"histograma_errores.png\"\n",
    "output_path_1 = os.path.join(IMAGES_DIR, output_filename)\n",
    "\n",
    "errors = np.abs(y_test - y_pred)\n",
    "plt.figure(figsize=(8,5))\n",
    "plt.hist(errors, bins=30, color='skyblue', edgecolor='black')\n",
    "plt.xlabel(\"Error Absoluto\")\n",
    "plt.ylabel(\"Frecuencia\")\n",
    "plt.title(\"Histograma de Errores Absolutos\")\n",
    "plt.tight_layout()\n",
    "plt.savefig(output_path_1)\n",
    "plt.close()\n",
    "\n",
    "output_path_2 = os.path.join(ASSETS_IMAGES_DIR, output_filename)\n",
    "shutil.copy(output_path_1, output_path_2)\n",
    "print(f\"Histograma de Errores exportado en:\\n- {output_path_1}\\n- {output_path_2}\")\n"
   ]
  },
  {
   "cell_type": "code",
   "execution_count": 8,
   "id": "53f83100",
   "metadata": {},
   "outputs": [
    {
     "name": "stdout",
     "output_type": "stream",
     "text": [
      "Métricas exportadas en:\n",
      "- ../data/metricas_regresion.csv\n",
      "- ../../streamlit/assets/data/metricas_regresion.csv\n"
     ]
    }
   ],
   "source": [
    "# Cálculo de métricas\n",
    "rmse = np.sqrt(mean_squared_error(y_test, y_pred))\n",
    "r2 = r2_score(y_test, y_pred)\n",
    "mae = mean_absolute_error(y_test, y_pred)\n",
    "\n",
    "metricas = {\n",
    "    \"RMSE\": [rmse],\n",
    "    \"R2\": [r2],\n",
    "    \"MAE\": [mae]\n",
    "}\n",
    "metricas_df = pd.DataFrame(metricas)\n",
    "\n",
    "# Guardar el archivo principal\n",
    "output_filename = \"metricas_regresion.csv\"\n",
    "output_path_1 = os.path.join(DATA_DIR, output_filename)\n",
    "metricas_df.to_csv(output_path_1, index=False)\n",
    "\n",
    "# Copiar al assets\n",
    "output_path_2 = os.path.join(ASSETS_DATA_DIR, output_filename)\n",
    "shutil.copy(output_path_1, output_path_2)\n",
    "\n",
    "print(f\"Métricas exportadas en:\\n- {output_path_1}\\n- {output_path_2}\")\n"
   ]
  }
 ],
 "metadata": {
  "kernelspec": {
   "display_name": "evolve",
   "language": "python",
   "name": "python3"
  },
  "language_info": {
   "codemirror_mode": {
    "name": "ipython",
    "version": 3
   },
   "file_extension": ".py",
   "mimetype": "text/x-python",
   "name": "python",
   "nbconvert_exporter": "python",
   "pygments_lexer": "ipython3",
   "version": "3.11.11"
  }
 },
 "nbformat": 4,
 "nbformat_minor": 5
}
